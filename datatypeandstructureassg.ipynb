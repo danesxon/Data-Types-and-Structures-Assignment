{
  "nbformat": 4,
  "nbformat_minor": 0,
  "metadata": {
    "colab": {
      "provenance": []
    },
    "kernelspec": {
      "name": "python3",
      "display_name": "Python 3"
    },
    "language_info": {
      "name": "python"
    }
  },
  "cells": [
    {
      "cell_type": "markdown",
      "source": [
        "# Data Type And Structure Assignment"
      ],
      "metadata": {
        "id": "XO38U2JEItQ8"
      }
    },
    {
      "cell_type": "markdown",
      "source": [
        "1.  What are data structures, and why are they important?\n",
        "  - Data structures are ways to organize and store data efficiently. They help in managing data so that it can be accessed and modified easily.\n",
        "\n",
        "- Why are they important?\n",
        "\n",
        "    -  Faster Access – Helps find and use data quickly.\n",
        "    - Efficient Storage – Saves memory and organizes data neatly.\n",
        "    - Better Performance – Makes programs run faster and smoother.\n",
        "    - Solves Problems – Used in real-world applications like databases, search engines, and social media.\n",
        "- Common Types:\n",
        "    - Array – List of items in order.\n",
        "    - Linked List – Items connected like a chain.\n",
        "    - Stack – Like a pile of books (Last In, First Out).\n",
        "    - Queue – Like a line at a store (First In, First Out).\n",
        "    - Tree – Like a family tree (Hierarchical structure).\n",
        "    - Graph – Like a network of cities (Connections between elements).\n",
        "\n",
        "\n",
        "\n",
        "2.  Explain the difference between mutable and immutable data types with examples?\n",
        "- Mutable vs Immutable Data Types\n",
        "\n",
        "   - Mutable: Can be changed after creation.\n",
        "   - Immutable: Cannot be changed after creation.\n",
        "\n",
        "- Examples in Python:\n",
        "\n",
        "    - Mutable: Lists, Dictionaries, Sets\n",
        "\n",
        " Example:\n",
        "\n",
        "    \n",
        "    my_list = [1, 2, 3]\n",
        "\n",
        "    my_list[0] = 10\n",
        "\n",
        "    print(my_list)  # Output: [10, 2, 3]\n",
        "\n",
        "   Immutable: Strings, Tuples, Integers\n",
        "\n",
        "  Example:\n",
        "\n",
        "    my_string = \"hello\"\n",
        "\n",
        "    my_string[0] = \"H\"  #  Error! (Immutable)\n",
        "\n",
        "3. What are the main differences between lists and tuples in Python?\n",
        "- Lists → Like a shopping list. You can add, remove, or change items anytime.\n",
        "\n",
        "    \n",
        "    my_list = [1, 2, 3]\n",
        "\n",
        "    my_list[1] = 5  # Changing the second item\n",
        "\n",
        " print(my_list)  # [1, 5, 3]\n",
        "\n",
        "- Tuples → Like a train ticket. Once printed, you can’t change the details.\n",
        "\n",
        "    \n",
        "    my_tuple = (1, 2, 3)\n",
        "\n",
        "    my_tuple[1] = 5  #  This will cause an error!\n",
        "\n",
        "- When to use?\n",
        "\n",
        " Use lists when data will change.\n",
        "\n",
        " Use tuples when data should stay the same (faster & safer).\n",
        "\n",
        "4. Describe how dictionaries store data?\n",
        "- Dictionaries store data using a key-value system. Each key (like a name) links to a value (like a phone number).\n",
        "\n",
        " When you search for a key, the dictionary quickly finds its value using hashing, which makes lookups very fast.\n",
        "\n",
        "5.  Why might you use a set instead of a list in Python?\n",
        "- Use a set instead of a list when:\n",
        "\n",
        " No Duplicates Needed – Sets automatically remove duplicates.\n",
        "\n",
        " Fast Lookups – Checking if an item exists (x in set) is faster.\n",
        "\n",
        " Unordered Data – Order doesn’t matter in sets.\n",
        "\n",
        " But sets don’t support indexing like lists!\n",
        "6. What is a string in Python, and how is it different from a list?\n",
        "- A string in Python is a sequence of characters enclosed in quotes, like \"Hello\". It is immutable, meaning once created, you cannot change its characters.\n",
        "\n",
        "- A list is a collection of items, which can be of different types, like [1, 2, 3] or [\"apple\", \"banana\"]. Unlike strings, lists are mutable, so you can modify, add, or remove elements.\n",
        "\n",
        "  - For example:\n",
        "\n",
        "   If you try to change a character in a string:\n",
        "\n",
        "    \n",
        "    s = \"Hello\"\n",
        "\n",
        "    s[0] = \"J\"  #This will cause an error\n",
        "\n",
        "   But in a list, you can change an element:\n",
        "\n",
        "    l = [\"H\", \"e\", \"l\", \"l\", \"o\"]\n",
        "\n",
        "    l[0] = \"J\"  # Now l becomes ['J', 'e', 'l', 'l', 'o']\n",
        "\n",
        "  So, the main difference is that strings are fixed, while lists are flexible and allow modifications.\n",
        "7. How do tuples ensure data integrity in Python?\n",
        "- Tuples ensure data integrity in Python because they are immutable. Once a tuple is created, its elements cannot be changed, added, or removed. This prevents accidental modifications, ensuring the data stays the same throughout the program. This makes tuples a reliable way to store data that shouldn't be altered.\n",
        "   - Example\n",
        "\n",
        "    \n",
        "    my_tuple = (1, 2, 3)\n",
        "\n",
        "    my_tuple[1] = 5  #  This will cause an error!\n",
        "8. What is a hash table, and how does it relate to dictionaries in Python?\n",
        "- A hash table is a data structure that stores key-value pairs and allows fast lookups. It uses a hash function to convert keys into indexes, where values are stored. This makes searching, inserting, and deleting data very quick—usually O(1) time.\n",
        "\n",
        "  - In Python, a dictionary (dict) is implemented using a hash table. When you do:\n",
        "\n",
        "    \n",
        "    my_dict = {\"name\": \"Alice\", \"age\": 25}\n",
        "\n",
        "    print(my_dict[\"name\"])  # Fast lookup using hashing\n",
        "\n",
        "  Python calculates a hash for \"name\" and finds its value quickly. This is why dictionaries are fast and efficient for lookups.\n",
        "\n",
        "9. Can lists contain different data types in Python?\n",
        "- In Python, a list can have different data types. For example:\n",
        "\n",
        "    \n",
        "    my_list = [10, \"hello\", 3.14, True]\n",
        "\n",
        "   Here, the list contains an integer, a string, a float, and a boolean. Python lists are flexible!\n",
        "10. Explain why strings are immutable in Python?\n",
        "- Strings are immutable in Python because once you create a string, you can't change its content.\n",
        "\n",
        "   - Why?\n",
        "\n",
        "    Memory Efficiency – Avoids unnecessary modifications.\n",
        "\n",
        "    Security – Prevents accidental changes.\n",
        "\n",
        "    Performance – Multiple references can safely use the same string.\n",
        "\n",
        "  If you need to modify a string, Python creates a new one instead of changing the original. Example:\n",
        "\n",
        "  \n",
        "    s = \"hello\"\n",
        "\n",
        "    s = s + \" world\"   # Creates a new string, doesn't change 's' in place.\n",
        "11.  What advantages do dictionaries offer over lists for certain tasks?\n",
        "- Dictionaries are better than lists when you need to find things quickly because they use keys instead of searching through everything. They are also good for storing related data in a clear way.\n",
        "\n",
        "   - Quick Advantages:\n",
        "\n",
        "    Faster Lookup – Finding a value by key is super fast.\n",
        "    \n",
        "    Organized Data – Stores data in key-value pairs, making it easier to read.\n",
        "    \n",
        "    No Duplicates – Each key is unique, so no accidental repeats.\n",
        "\n",
        "  Use lists when order matters, and use dictionaries when you need fast access to specific data.\n",
        "12.  Describe a scenario where using a tuple would be preferable over a list?\n",
        "- Use a tuple when you need fixed data that won't change.\n",
        "\n",
        "    - Example Scenario:\n",
        "     \n",
        "    Storing days of the week (Monday, Tuesday, ...).\n",
        "\n",
        "    These days never change, so a tuple is better.\n",
        "\n",
        "    It prevents accidental modification.\n",
        "    \n",
        "    Code Example:\n",
        "\n",
        "     \n",
        "      days = (\"Monday\", \"Tuesday\", \"Wednesday\", \"Thursday\", \"Friday\", \"Saturday\", \"Sunday\")\n",
        "\n",
        "  If you use a list, someone might accidentally modify it, which is unnecessary.\n",
        "13.  How do sets handle duplicate values in Python?  \n",
        "- In Python, sets automatically remove duplicate values. If you add the same item multiple times, it appears only once in the set.\n",
        "\n",
        "    - Example:\n",
        "\n",
        "     \n",
        "     my_set = {1, 2, 2, 3, 4, 4}\n",
        "\n",
        "     print(my_set)  # Output: {1, 2, 3, 4}\n",
        "\n",
        "  This makes sets useful for storing unique values.\n",
        "14.  How does the “in” keyword work differently for lists and dictionaries?\n",
        "- The in keyword checks for membership:\n",
        "\n",
        "    - In lists: It checks if a value exists in the list.\n",
        "\n",
        "    \n",
        "    nums = [1, 2, 3, 4]\n",
        "    \n",
        "    print(2 in nums)  # True\n",
        "    \n",
        "    print(5 in nums)  # False\n",
        "\n",
        "   In dictionaries: It checks if a key exists, not values.\n",
        "\n",
        "    data = {\"name\": \"Alice\", \"age\": 25}\n",
        "    \n",
        "    print(\"name\" in data)  # True\n",
        "    \n",
        "    print(\"Alice\" in data)  # False (checks keys, not values).\n",
        "15. Can you modify the elements of a tuple? Explain why or why not?\n",
        "-  You cannot modify the elements of a tuple because tuples are immutable.\n",
        "\n",
        "    - Why?\n",
        "    \n",
        "    Once you create a tuple, its elements cannot be changed, added, or removed.\n",
        "    \n",
        "    This makes tuples faster and safer for storing fixed data.\n",
        "    - Example:\n",
        "\n",
        "    \n",
        "    t = (1, 2, 3)\n",
        "    \n",
        "    t[0] = 5  # This will give an error!\n",
        "    \n",
        "   If you need to modify data, use a list instead of a tuple.\n",
        "\n",
        "    l = [1, 2, 3]\n",
        "    \n",
        "    l[0] = 5  # Works fine!\n",
        "16.  What is a nested dictionary, and give an example of its use case?\n",
        "- A nested dictionary is a dictionary inside another dictionary. It helps store complex data in a structured way.\n",
        "\n",
        "    - Example Use Case:\n",
        "   \n",
        "    A store wants to track product details by category.\n",
        "\n",
        "    \n",
        "    store = {\n",
        "\n",
        "    \"Electronics\": {\n",
        "        \n",
        "        \"Laptop\": {\"price\": 50000, \"brand\": \"Dell\"},\n",
        "        \n",
        "        \"Phone\": {\"price\": 30000, \"brand\": \"Samsung\"}\n",
        "    },\n",
        "   \n",
        "    \"Clothing\": {\n",
        "   \n",
        "        \"Shirt\": {\"price\": 1000, \"brand\": \"Nike\"},\n",
        "   \n",
        "        \"Jeans\": {\"price\": 2000, \"brand\": \"Levi's\"}\n",
        "    }}\n",
        "\n",
        "    \n",
        "   Accessing data\n",
        "\n",
        "    print(store[\"Electronics\"][\"Laptop\"][\"price\"])  # Output: 50000\n",
        "\n",
        "  Why Use It?\n",
        "\n",
        "  Organizes data neatly\n",
        "\n",
        "  Easy to access specific details\n",
        "\n",
        "  Useful for real-world applications like e-commerce, databases, etc.\n",
        "17.  Describe the time complexity of accessing elements in a dictionary?\n",
        "- Accessing elements in a dictionary has an average time complexity of O(1) (constant time) because Python dictionaries use a hash table, allowing direct lookups.\n",
        "\n",
        "  However, in the worst case, it can be O(n) (linear time) if there are many hash collisions, but this is rare.\n",
        "18.  In what situations are lists preferred over dictionaries?\n",
        "- Lists are preferred over dictionaries when you need to:\n",
        "\n",
        "     - Store an ordered collection: Lists keep things in the order you add them, useful when order matters.\n",
        "\n",
        "     - Have duplicates: Lists allow the same item to appear more than once, unlike dictionaries.\n",
        "\n",
        "     - Indexing by position: You want to access elements by their position (like 0, 1, 2), not by a key.\n",
        "\n",
        "  In short, use lists for simple, ordered, and index-based storage.\n",
        "19.  Why are dictionaries considered unordered, and how does that affect data retrieval?\n",
        "- Dictionaries are considered unordered because the items (key-value pairs) are stored in no specific order. This means that when you access data in a dictionary, the order in which the items appear might not be the same each time.\n",
        "\n",
        "  However, this doesn't affect how you retrieve data because you access it using the key, not the position. The dictionary quickly looks up the value associated with a key, regardless of the order.\n",
        "20. Explain the difference between a list and a dictionary in terms of data retrieval?\n",
        "- A list is an ordered collection of items, accessed by their position (index). So, to get an item, you refer to its position, like list[2].\n",
        "\n",
        "  A dictionary is a collection of key-value pairs, accessed by the key. To get a value, you use the key, like dict['key'].\n",
        "\n",
        "    - List: Ordered, access by index.\n",
        "\n",
        "    - Dictionary: Unordered, access by key.\n",
        "\n",
        "\n",
        "\n",
        "\n",
        "\n",
        "\n",
        "\n",
        "\n",
        "\n",
        "\n",
        "\n",
        "\n",
        "\n",
        "\n",
        "\n",
        "\n",
        "\n",
        "\n",
        "\n",
        "\n",
        "\n",
        "\n",
        "\n",
        "\n",
        "\n",
        "\n",
        "\n",
        "\n",
        "\n",
        "\n",
        "\n",
        "\n",
        "\n",
        "\n",
        "\n",
        "\n",
        "\n",
        "\n",
        "\n",
        "\n",
        "\n",
        "\n",
        "\n",
        "\n",
        "\n",
        "\n",
        "\n",
        "\n",
        "\n",
        "\n",
        "\n",
        "\n",
        "\n",
        "\n",
        "\n",
        "\n",
        "\n"
      ],
      "metadata": {
        "id": "UAjLxUz3JleK"
      }
    },
    {
      "cell_type": "code",
      "source": [
        "         # PRACTICAL QUETIONS"
      ],
      "metadata": {
        "id": "xBwbDurTI4fB"
      },
      "execution_count": 1,
      "outputs": []
    },
    {
      "cell_type": "code",
      "source": [
        "# 1. Write a code to create a string with your name and print it\n",
        "name= \"Aditya Singh\"\n",
        "print(name)"
      ],
      "metadata": {
        "colab": {
          "base_uri": "https://localhost:8080/"
        },
        "id": "75VWX9K0nOvI",
        "outputId": "8c4ab8fe-4cdd-4e1b-9835-0d602471203b"
      },
      "execution_count": 2,
      "outputs": [
        {
          "output_type": "stream",
          "name": "stdout",
          "text": [
            "Aditya Singh\n"
          ]
        }
      ]
    },
    {
      "cell_type": "code",
      "source": [
        "# 2. Write a code to find the length of the string \"Hello World\"\n",
        "string= \"Hello World\"\n",
        "print(len(string))"
      ],
      "metadata": {
        "colab": {
          "base_uri": "https://localhost:8080/"
        },
        "id": "X4oP89CYnX4E",
        "outputId": "ca3b1c19-9217-491a-b014-942f366bdb51"
      },
      "execution_count": 3,
      "outputs": [
        {
          "output_type": "stream",
          "name": "stdout",
          "text": [
            "11\n"
          ]
        }
      ]
    },
    {
      "cell_type": "code",
      "source": [
        "# 3. Write a code to slice the first 3 characters from the string \"Python Programming\"\n",
        "string= \"Python Programming\"\n",
        "print(string[0:3])"
      ],
      "metadata": {
        "colab": {
          "base_uri": "https://localhost:8080/"
        },
        "id": "niEqIg7Xnmdh",
        "outputId": "ede238f8-3ac1-4071-ce26-7d931d214955"
      },
      "execution_count": 4,
      "outputs": [
        {
          "output_type": "stream",
          "name": "stdout",
          "text": [
            "Pyt\n"
          ]
        }
      ]
    },
    {
      "cell_type": "code",
      "source": [
        "# 4. Write a code to convert the string \"hello\" to uppercase\n",
        "string= \"hello\"\n",
        "print(string.upper())"
      ],
      "metadata": {
        "colab": {
          "base_uri": "https://localhost:8080/"
        },
        "id": "8COG31vmnsg-",
        "outputId": "0b3eb3eb-5adb-421f-a978-cd7675982b51"
      },
      "execution_count": 5,
      "outputs": [
        {
          "output_type": "stream",
          "name": "stdout",
          "text": [
            "HELLO\n"
          ]
        }
      ]
    },
    {
      "cell_type": "code",
      "source": [
        "# 5.  Write a code to replace the word \"apple\" with \"orange\" in the string \"I like apple\"\n",
        "string= \"I like apple\"\n",
        "print(string.replace(\"apple\",\"orange\"))"
      ],
      "metadata": {
        "colab": {
          "base_uri": "https://localhost:8080/"
        },
        "id": "dNmmopAVn0MA",
        "outputId": "9f9f432a-0bdf-4b71-f6ab-40a0b6b2a72f"
      },
      "execution_count": 6,
      "outputs": [
        {
          "output_type": "stream",
          "name": "stdout",
          "text": [
            "I like orange\n"
          ]
        }
      ]
    },
    {
      "cell_type": "code",
      "source": [
        "# 6.  Write a code to create a list with numbers 1 to 5 and print it\n",
        "list1= [1,2,3,4,5]\n",
        "print(list1)"
      ],
      "metadata": {
        "colab": {
          "base_uri": "https://localhost:8080/"
        },
        "id": "twgEN_Qdn58K",
        "outputId": "54018a34-7b5e-4637-c00a-bf63f7ced1ff"
      },
      "execution_count": 9,
      "outputs": [
        {
          "output_type": "stream",
          "name": "stdout",
          "text": [
            "[1, 2, 3, 4, 5]\n"
          ]
        }
      ]
    },
    {
      "cell_type": "code",
      "source": [
        "# 7. Write a code to append the number 10 to the list [1, 2, 3, 4]\n",
        "list1= [1,2,3,4]\n",
        "list1.append(10)\n",
        "print(list1)"
      ],
      "metadata": {
        "colab": {
          "base_uri": "https://localhost:8080/"
        },
        "id": "wQ1BH1rKn_QD",
        "outputId": "bb564018-d8b6-4bb4-b641-c73b7ff181ed"
      },
      "execution_count": 10,
      "outputs": [
        {
          "output_type": "stream",
          "name": "stdout",
          "text": [
            "[1, 2, 3, 4, 10]\n"
          ]
        }
      ]
    },
    {
      "cell_type": "code",
      "source": [
        "# 8.  Write a code to remove the number 3 from the list [1, 2, 3, 4, 5]\n",
        "list1= [1,2,3,4,5]\n",
        "list1.remove(3)\n",
        "print(list1)"
      ],
      "metadata": {
        "colab": {
          "base_uri": "https://localhost:8080/"
        },
        "id": "WZkr_GkuoMV0",
        "outputId": "698684e1-064a-497e-eb80-74a64272fb0c"
      },
      "execution_count": 11,
      "outputs": [
        {
          "output_type": "stream",
          "name": "stdout",
          "text": [
            "[1, 2, 4, 5]\n"
          ]
        }
      ]
    },
    {
      "cell_type": "code",
      "source": [
        "# 9.  Write a code to access the second element in the list ['a', 'b', 'c', 'd']\n",
        "list1= ['a', 'b', 'c', 'd']\n",
        "print(list1[1])"
      ],
      "metadata": {
        "colab": {
          "base_uri": "https://localhost:8080/"
        },
        "id": "1iSoMTdwoSVv",
        "outputId": "edc59024-4fd5-4036-cd52-bf9b4d19ed55"
      },
      "execution_count": 12,
      "outputs": [
        {
          "output_type": "stream",
          "name": "stdout",
          "text": [
            "b\n"
          ]
        }
      ]
    },
    {
      "cell_type": "code",
      "source": [
        "# 10.  Write a code to reverse the list [10, 20, 30, 40, 50].\n",
        "list1= [10, 20, 30, 40, 50]\n",
        "print(list1[::-1])"
      ],
      "metadata": {
        "colab": {
          "base_uri": "https://localhost:8080/"
        },
        "id": "lA14BAsooX64",
        "outputId": "e06b1e3c-e021-4b19-d5ef-9d9f35ca246b"
      },
      "execution_count": 13,
      "outputs": [
        {
          "output_type": "stream",
          "name": "stdout",
          "text": [
            "[50, 40, 30, 20, 10]\n"
          ]
        }
      ]
    },
    {
      "cell_type": "code",
      "source": [
        "# 11. Write a code to create a tuple with the elements 100, 200, 300 and print it.\n",
        "tuple1= (100,200,300)\n",
        "print(tuple1)"
      ],
      "metadata": {
        "colab": {
          "base_uri": "https://localhost:8080/"
        },
        "id": "HQ2oqL1gorYv",
        "outputId": "d96700bf-9463-40e5-e5e6-7db7d313c684"
      },
      "execution_count": 15,
      "outputs": [
        {
          "output_type": "stream",
          "name": "stdout",
          "text": [
            "(100, 200, 300)\n"
          ]
        }
      ]
    },
    {
      "cell_type": "code",
      "source": [
        "# 12. Write a code to access the second-to-last element of the tuple ('red', 'green', 'blue', 'yellow').\n",
        "tuple1= ('red', 'green', 'blue', 'yellow')\n",
        "print(tuple1[-2])"
      ],
      "metadata": {
        "colab": {
          "base_uri": "https://localhost:8080/"
        },
        "id": "l7ps05zOovT8",
        "outputId": "b6f3fe61-b646-42a1-8ada-58f7b3f2c083"
      },
      "execution_count": 16,
      "outputs": [
        {
          "output_type": "stream",
          "name": "stdout",
          "text": [
            "blue\n"
          ]
        }
      ]
    },
    {
      "cell_type": "code",
      "source": [
        "# 13. Write a code to find the minimum number in the tuple (10, 20, 5, 15).\n",
        "tuple1= (10, 20, 5, 15)\n",
        "print(min(tuple1))"
      ],
      "metadata": {
        "colab": {
          "base_uri": "https://localhost:8080/"
        },
        "id": "NjDn4KiJo-iZ",
        "outputId": "80970e69-6f03-4cb5-891c-c9cf2f2bc4b2"
      },
      "execution_count": 17,
      "outputs": [
        {
          "output_type": "stream",
          "name": "stdout",
          "text": [
            "5\n"
          ]
        }
      ]
    },
    {
      "cell_type": "code",
      "source": [
        "# 14.  Write a code to find the index of the element \"cat\" in the tuple ('dog', 'cat', 'rabbit')\n",
        "tuple1= ('dog', 'cat', 'rabbit')\n",
        "print(tuple1.index(\"cat\"))"
      ],
      "metadata": {
        "colab": {
          "base_uri": "https://localhost:8080/"
        },
        "id": "rtCJH43dpGN5",
        "outputId": "f5683dea-d2c8-4e2e-85e8-72c4e3940eaf"
      },
      "execution_count": 18,
      "outputs": [
        {
          "output_type": "stream",
          "name": "stdout",
          "text": [
            "1\n"
          ]
        }
      ]
    },
    {
      "cell_type": "code",
      "source": [
        "# 15.  Write a code to create a tuple containing three different fruits and check if \"kiwi\" is in it.\n",
        "fruits = (\"apple\", \"banana\", \"orange\")\n",
        "if \"kiwi\" in fruits:\n",
        "    print(\"Kiwi is in the tuple.\")\n",
        "else:\n",
        "    print(\"Kiwi is not in the tuple.\")"
      ],
      "metadata": {
        "colab": {
          "base_uri": "https://localhost:8080/"
        },
        "id": "lS53mrtUpNwu",
        "outputId": "42e3f40d-88c0-4b5a-c3d8-1fabc8983797"
      },
      "execution_count": 20,
      "outputs": [
        {
          "output_type": "stream",
          "name": "stdout",
          "text": [
            "Kiwi is not in the tuple.\n"
          ]
        }
      ]
    },
    {
      "cell_type": "code",
      "source": [
        "# 16. Write a code to create a set with the elements 'a', 'b', 'c' and print it.\n",
        "my_set = {'a', 'b', 'c'}\n",
        "print(my_set)"
      ],
      "metadata": {
        "colab": {
          "base_uri": "https://localhost:8080/"
        },
        "id": "27Vz-Q5Hpw5K",
        "outputId": "9f36446a-e333-4d5f-b31a-d509793b977e"
      },
      "execution_count": 21,
      "outputs": [
        {
          "output_type": "stream",
          "name": "stdout",
          "text": [
            "{'a', 'b', 'c'}\n"
          ]
        }
      ]
    },
    {
      "cell_type": "code",
      "source": [
        "# 17. Write a code to clear all elements from the set {1, 2, 3, 4, 5}.\n",
        "my_set = {1, 2, 3, 4, 5}\n",
        "my_set.clear()\n",
        "print(my_set)"
      ],
      "metadata": {
        "colab": {
          "base_uri": "https://localhost:8080/"
        },
        "id": "J2T5aVB9qAjS",
        "outputId": "cc623c90-618a-4b9b-bacf-6de5775c1656"
      },
      "execution_count": 22,
      "outputs": [
        {
          "output_type": "stream",
          "name": "stdout",
          "text": [
            "set()\n"
          ]
        }
      ]
    },
    {
      "cell_type": "code",
      "source": [
        "# 18. Write a code to remove the element 4 from the set {1, 2, 3, 4}\n",
        "my_set = {1, 2, 3, 4}\n",
        "my_set.remove(4)\n",
        "print(my_set)"
      ],
      "metadata": {
        "colab": {
          "base_uri": "https://localhost:8080/"
        },
        "id": "MlpeBZhVqHIS",
        "outputId": "ca14ffd3-cca8-4354-9f56-c26ffda20a4f"
      },
      "execution_count": 23,
      "outputs": [
        {
          "output_type": "stream",
          "name": "stdout",
          "text": [
            "{1, 2, 3}\n"
          ]
        }
      ]
    },
    {
      "cell_type": "code",
      "source": [
        "# 19. Write a code to find the union of two sets {1, 2, 3} and {3, 4, 5}\n",
        "set1 = {1, 2, 3}\n",
        "set2 = {3, 4, 5}\n",
        "union_set = set1.union(set2)\n",
        "print(union_set)"
      ],
      "metadata": {
        "colab": {
          "base_uri": "https://localhost:8080/"
        },
        "id": "1MAmPCSAqQuo",
        "outputId": "5aede839-1b0b-4ab1-826f-2f708a221de6"
      },
      "execution_count": 24,
      "outputs": [
        {
          "output_type": "stream",
          "name": "stdout",
          "text": [
            "{1, 2, 3, 4, 5}\n"
          ]
        }
      ]
    },
    {
      "cell_type": "code",
      "source": [
        "# 20. Write a code to find the intersection of two sets {1, 2, 3} and {2, 3, 4}\n",
        "set1 = {1, 2, 3}\n",
        "set2 = {2, 3, 4}\n",
        "intersection_set = set1.intersection(set2)\n",
        "print(intersection_set)"
      ],
      "metadata": {
        "colab": {
          "base_uri": "https://localhost:8080/"
        },
        "id": "nVHdTyP-qWjS",
        "outputId": "cb0f3162-154f-4924-f355-1304c213e3ee"
      },
      "execution_count": 25,
      "outputs": [
        {
          "output_type": "stream",
          "name": "stdout",
          "text": [
            "{2, 3}\n"
          ]
        }
      ]
    },
    {
      "cell_type": "code",
      "source": [
        "# 21. Write a code to create a dictionary with the keys \"name\", \"age\", and \"city\", and print it\n",
        "my_dict = {\"name\": \"John\", \"age\": 25, \"city\": \"New York\"}\n",
        "print(my_dict)"
      ],
      "metadata": {
        "colab": {
          "base_uri": "https://localhost:8080/"
        },
        "id": "cxLwMOGQqf-m",
        "outputId": "a31b796d-3452-4890-a628-d4ad977700ba"
      },
      "execution_count": 26,
      "outputs": [
        {
          "output_type": "stream",
          "name": "stdout",
          "text": [
            "{'name': 'John', 'age': 25, 'city': 'New York'}\n"
          ]
        }
      ]
    },
    {
      "cell_type": "code",
      "source": [
        "# 22. Write a code to add a new key-value pair \"country\": \"USA\" to the dictionary {'name': 'John', 'age': 25}.\n",
        "my_dict = {'name': 'John', 'age': 25}\n",
        "my_dict[\"country\"] = \"USA\"\n",
        "print(my_dict)"
      ],
      "metadata": {
        "colab": {
          "base_uri": "https://localhost:8080/"
        },
        "id": "U3iI5Kl_qmT9",
        "outputId": "119f2ae3-22d9-47f0-e958-814a14509968"
      },
      "execution_count": 27,
      "outputs": [
        {
          "output_type": "stream",
          "name": "stdout",
          "text": [
            "{'name': 'John', 'age': 25, 'country': 'USA'}\n"
          ]
        }
      ]
    },
    {
      "cell_type": "code",
      "source": [
        "# 23. Write a code to access the value associated with the key \"name\" in the dictionary {'name': 'Alice', 'age': 30}.\n",
        "my_dict = {'name': 'Alice', 'age': 30}\n",
        "print(my_dict[\"name\"])"
      ],
      "metadata": {
        "colab": {
          "base_uri": "https://localhost:8080/"
        },
        "id": "qc16i2rsqt50",
        "outputId": "cc21de7f-00b9-42f8-92ea-05f53bf51838"
      },
      "execution_count": 28,
      "outputs": [
        {
          "output_type": "stream",
          "name": "stdout",
          "text": [
            "Alice\n"
          ]
        }
      ]
    },
    {
      "cell_type": "code",
      "source": [
        "# 24. Write a code to remove the key \"age\" from the dictionary {'name': 'Bob', 'age': 22, 'city': 'New York'}.\n",
        "my_dict = {'name': 'Bob', 'age': 22, 'city': 'New York'}\n",
        "del my_dict[\"age\"]\n",
        "print(my_dict)"
      ],
      "metadata": {
        "colab": {
          "base_uri": "https://localhost:8080/"
        },
        "id": "kdabAO3qq6yS",
        "outputId": "1d810535-275a-415c-a338-665ff71c90b7"
      },
      "execution_count": 29,
      "outputs": [
        {
          "output_type": "stream",
          "name": "stdout",
          "text": [
            "{'name': 'Bob', 'city': 'New York'}\n"
          ]
        }
      ]
    },
    {
      "cell_type": "code",
      "source": [
        "# 25. Write a code to check if the key \"city\" exists in the dictionary {'name': 'Alice', 'city': 'Paris'}.\n",
        "my_dict = {'name': 'Alice', 'city': 'Paris'}\n",
        "if \"city\" in my_dict:\n",
        "    print(\"The key 'city' exists in the dictionary.\")\n",
        "else:\n",
        "    print(\"The key 'city' does not exist in the dictionary.\")"
      ],
      "metadata": {
        "colab": {
          "base_uri": "https://localhost:8080/"
        },
        "id": "qh-nU1WsrATj",
        "outputId": "c3262d6b-9b17-4b16-dd04-6f33b371ebba"
      },
      "execution_count": 30,
      "outputs": [
        {
          "output_type": "stream",
          "name": "stdout",
          "text": [
            "The key 'city' exists in the dictionary.\n"
          ]
        }
      ]
    },
    {
      "cell_type": "code",
      "source": [
        "# 26. Write a code to create a list, a tuple, and a dictionary, and print them all.\n",
        "my_list = [1, 2, 3, 4, 5]\n",
        "my_tuple = (10, 20, 30, 40, 50)\n",
        "my_dict = {\"name\": \"Alice\", \"age\": 25}\n",
        "print(my_list)\n",
        "print(my_tuple)\n",
        "print(my_dict)"
      ],
      "metadata": {
        "colab": {
          "base_uri": "https://localhost:8080/"
        },
        "id": "1FV2RmIxrGnF",
        "outputId": "1aefcfe5-f3ac-4727-97c4-6a6f9b2b2534"
      },
      "execution_count": 33,
      "outputs": [
        {
          "output_type": "stream",
          "name": "stdout",
          "text": [
            "[1, 2, 3, 4, 5]\n",
            "(10, 20, 30, 40, 50)\n",
            "{'name': 'Alice', 'age': 25}\n"
          ]
        }
      ]
    },
    {
      "cell_type": "code",
      "source": [
        "# 27. Write a code to create a list of 5 random numbers between 1 and 100, sort it in ascending order, and print the result.(replaced)\n",
        "import random\n",
        "\n",
        "# Generate a list of 5 random numbers between 1 and 100\n",
        "random_numbers = [random.randint(1, 100) for _ in range(5)]\n",
        "\n",
        "# Sort the list in ascending order\n",
        "random_numbers.sort()\n",
        "\n",
        "# Print the sorted list\n",
        "print(random_numbers)"
      ],
      "metadata": {
        "colab": {
          "base_uri": "https://localhost:8080/"
        },
        "id": "Z5T0Ahy3rNvH",
        "outputId": "a1323479-c2f1-436c-ad00-b2cbe110f9ac"
      },
      "execution_count": 45,
      "outputs": [
        {
          "output_type": "stream",
          "name": "stdout",
          "text": [
            "[13, 21, 30, 48, 80]\n"
          ]
        }
      ]
    },
    {
      "cell_type": "code",
      "source": [
        "# 28. Write a code to create a list with strings and print the element at the third index.\n",
        "my_list = [\"apple\", \"banana\", \"cherry\", \"date\", \"elderberry\"]\n",
        "print(my_list[2])"
      ],
      "metadata": {
        "colab": {
          "base_uri": "https://localhost:8080/"
        },
        "id": "pRevrcbYrxgd",
        "outputId": "e5ce54df-a830-4f3b-9f98-a540699de43b"
      },
      "execution_count": 36,
      "outputs": [
        {
          "output_type": "stream",
          "name": "stdout",
          "text": [
            "cherry\n"
          ]
        }
      ]
    },
    {
      "cell_type": "code",
      "source": [
        "# 29. Write a code to combine two dictionaries into one and print the result\n",
        "dict1 = {'a': 1, 'b': 2}\n",
        "dict2 = {'c': 3, 'd': 4}\n",
        "combined_dict = {**dict1, **dict2}\n",
        "print(combined_dict)"
      ],
      "metadata": {
        "colab": {
          "base_uri": "https://localhost:8080/"
        },
        "id": "vYlCgFLYr5Uw",
        "outputId": "e293f7bc-937b-4dfb-8cfe-0c0a1c672099"
      },
      "execution_count": 37,
      "outputs": [
        {
          "output_type": "stream",
          "name": "stdout",
          "text": [
            "{'a': 1, 'b': 2, 'c': 3, 'd': 4}\n"
          ]
        }
      ]
    },
    {
      "cell_type": "code",
      "source": [
        "# 30. Write a code to convert a list of strings into a set.\n",
        "my_list = [\"apple\", \"banana\", \"cherry\", \"apple\", \"banana\"]\n",
        "my_set = set(my_list)\n",
        "print(my_set)"
      ],
      "metadata": {
        "colab": {
          "base_uri": "https://localhost:8080/"
        },
        "id": "A8jD9-bKsIDy",
        "outputId": "29a19bc9-d3ea-4e87-9255-a7e49fd62a59"
      },
      "execution_count": 38,
      "outputs": [
        {
          "output_type": "stream",
          "name": "stdout",
          "text": [
            "{'apple', 'cherry', 'banana'}\n"
          ]
        }
      ]
    }
  ]
}